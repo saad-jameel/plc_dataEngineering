{
 "cells": [
  {
   "cell_type": "code",
   "execution_count": 366,
   "metadata": {},
   "outputs": [],
   "source": [
    "# Weather Data Code Part\n",
    "import numpy as np\n",
    "import json"
   ]
  },
  {
   "cell_type": "code",
   "execution_count": 367,
   "metadata": {
    "scrolled": true
   },
   "outputs": [
    {
     "name": "stdout",
     "output_type": "stream",
     "text": [
      "1741\n"
     ]
    }
   ],
   "source": [
    "# Weather Data Code Part\n",
    "import pandas as pd \n",
    "weather_data = pd.read_csv(\"D:\\Personal\\Freelance\\Postgres_Job\\weather_data.csv\")\n",
    "b = weather_data.groupby('siteid').agg({'weather data':','.join}).reset_index()\n",
    "print(len(b))\n",
    "# print(b.head(1))\n",
    "# a = weather_data[weather_data['siteid']=='ABCH07']\n",
    "# a\n",
    "\n",
    "# weather_data"
   ]
  },
  {
   "cell_type": "code",
   "execution_count": 381,
   "metadata": {},
   "outputs": [],
   "source": [
    "# pd.set_option('display.max_colwidth', None)\n",
    "\n",
    "# print(b.head(1))\n",
    "# print(len(b))\n",
    "# k = []\n",
    "# siteid= []\n",
    "# for i in range(len(b)):\n",
    "#     new_data = pd.DataFrame()\n",
    "   \n",
    "    \n",
    "# #     k.append( i[1][\"weather data\"].iloc[1])\n",
    "# #     siteid.append(b[\"siteid\"])\n",
    "    \n",
    "    \n",
    "# print(type(a))    \n",
    "# # # s = i[1][\"weather data\"].iloc[1]\n",
    "# # # print(s)\n",
    "\n",
    "\n",
    "# # # L = json.loads(k[1])\n",
    "# # # L\n",
    "\n",
    "\n"
   ]
  },
  {
   "cell_type": "code",
   "execution_count": 181,
   "metadata": {
    "collapsed": true
   },
   "outputs": [
    {
     "name": "stdout",
     "output_type": "stream",
     "text": [
      "['2023-01-01', '2023-01-02', '2023-01-03', '2023-01-04', '2023-01-05', '2023-01-06', '2023-01-07', '2023-01-08', '2023-01-09', '2023-01-10', '2023-01-11', '2023-01-12', '2023-01-13', '2023-01-14', '2023-01-15', '2023-01-16', '2023-01-17', '2023-01-18', '2023-01-19', '2023-01-20', '2023-01-21', '2023-01-22', '2023-01-23', '2023-01-24', '2023-01-25', '2023-01-26', '2023-01-27', '2023-01-28', '2023-01-29', '2023-01-30', '2023-01-31', '2023-02-01', '2023-02-02', '2023-02-03', '2023-02-04', '2023-02-05', '2023-02-06', '2023-02-07', '2023-02-08', '2023-02-09', '2023-02-10', '2023-02-11', '2023-02-12', '2023-02-13', '2023-02-14', '2023-02-15', '2023-02-16', '2023-02-17', '2023-02-18', '2023-02-19', '2023-02-20', '2023-02-21', '2023-02-22', '2023-02-23', '2023-02-24', '2023-02-25', '2023-02-26', '2023-02-27', '2023-02-28', '2023-03-01', '2023-03-02', '2023-03-03', '2023-03-04', '2023-03-05', '2023-03-06', '2023-03-07']\n",
      "['07:07', '07:08', '07:08', '07:08', '07:08', '07:08', '07:08', '07:08', '07:08', '07:08', '07:08', '07:08', '07:08', '07:07', '07:07', '07:07', '07:07', '07:06', '07:06', '07:06', '07:05', '07:05', '07:05', '07:04', '07:04', '07:03', '07:02', '07:02', '07:01', '07:01', '07:00', '06:59', '06:59', '06:58', '06:57', '06:56', '06:55', '06:55', '06:54', '06:53', '06:52', '06:51', '06:50', '06:49', '06:48', '06:47', '06:46', '06:45', '06:44', '06:43', '06:42', '06:41', '06:40', '06:39', '06:37', '06:36', '06:35', '06:34', '06:33', '06:31', '06:30', '06:29', '06:28', '06:26', '06:25', '06:24']\n",
      "['17:07', '17:08', '17:09', '17:09', '17:10', '17:11', '17:12', '17:13', '17:14', '17:14', '17:15', '17:16', '17:17', '17:18', '17:19', '17:20', '17:21', '17:22', '17:23', '17:24', '17:25', '17:26', '17:27', '17:28', '17:28', '17:29', '17:30', '17:31', '17:32', '17:33', '17:34', '17:35', '17:36', '17:37', '17:38', '17:39', '17:40', '17:41', '17:42', '17:43', '17:44', '17:45', '17:46', '17:47', '17:48', '17:49', '17:50', '17:50', '17:51', '17:52', '17:53', '17:54', '17:55', '17:56', '17:57', '17:58', '17:58', '17:59', '18:00', '18:01', '18:02', '18:03', '18:03', '18:04', '18:05', '18:06']\n"
     ]
    }
   ],
   "source": [
    "# daily_sunrise = []\n",
    "# daily_weather_code = []\n",
    "# daily_sunset = []\n",
    "# for i in range(len(data)):\n",
    "#     weathercode = data[i]['daily']['weathercode']\n",
    "#     sunrise = data[i]['daily']['sunrise']\n",
    "#     sunset = data[i]['daily']['sunset']\n",
    "#     daily_weather_code += weathercode \n",
    "#     daily_sunrise += sunrise\n",
    "#     daily_sunset += sunset\n",
    "    \n",
    "# for i, element in enumerate(daily_sunrise):\n",
    "#     daily_sunrise[i] = element.split('T')\n",
    "    \n",
    "# for i, element in enumerate(daily_sunset):\n",
    "#     daily_sunset[i] = element.split('T')\n",
    "    \n",
    "# dates = [sublist[0] for sublist in daily_sunrise]\n",
    "# sunrise_time = [sublist[1] for sublist in daily_sunrise]\n",
    "# sunset_time = [sublist[1] for sublist in daily_sunset]\n",
    "\n",
    "# print(dates)\n",
    "# print(sunrise_time)\n",
    "# print(sunset_time)"
   ]
  },
  {
   "cell_type": "code",
   "execution_count": 368,
   "metadata": {},
   "outputs": [],
   "source": [
    "# Function for Parsing the Time and Date\n",
    "def parse_time(p_list):\n",
    "    for i, element in enumerate(p_list):\n",
    "        p_list[i] = element.split('T')\n",
    "    date = dates = [sublist[0] for sublist in p_list]\n",
    "    time = [sublist[1] for sublist in p_list]\n",
    "    return p_list, date, time"
   ]
  },
  {
   "cell_type": "code",
   "execution_count": 369,
   "metadata": {},
   "outputs": [],
   "source": [
    "# Daily Parsing Time\n",
    "def daily_parse(siteid ,data):\n",
    "    daily_sunrise = []\n",
    "    daily_weather_code = []\n",
    "    daily_sunset = []\n",
    "    for i in range(len(data)):\n",
    "        weathercode = data[i]['daily']['weathercode']\n",
    "        sunrise = data[i]['daily']['sunrise']\n",
    "        sunset = data[i]['daily']['sunset']\n",
    "        daily_weather_code += weathercode \n",
    "        daily_sunrise += sunrise\n",
    "        daily_sunset += sunset\n",
    "        \n",
    "    _, date, time_r = parse_time(daily_sunrise)\n",
    "    _, _, time_s = parse_time(daily_sunset)\n",
    "    \n",
    "    return siteid, date, daily_weather_code, time_r, time_s\n",
    "\n",
    "# siteid, date, daily_weather_code, time_r, time_s = daily_parse('a', data)\n",
    "\n",
    "# print(len(siteid))\n",
    "# print(len(date))\n",
    "# print(len(daily_weather_code))\n",
    "# print(len(time_r))\n",
    "# print(len(time_s))"
   ]
  },
  {
   "cell_type": "code",
   "execution_count": 373,
   "metadata": {
    "scrolled": false
   },
   "outputs": [],
   "source": [
    "# Hourly Data Parsing\n",
    "def hourly_parse (data):\n",
    "    final_hourly_list = []\n",
    "    disc = []\n",
    "    w_code = []\n",
    "    w_index = [] \n",
    "    \n",
    "    for i in range(len(data)):\n",
    "        for key in data[i]['hourly'].keys():\n",
    "        \n",
    "\n",
    "            hourly_list = [data[i]['hourly'][key][j:j+24] for j in range(0, len(data[i]['hourly'][key]), 24)]\n",
    "            final_hourly_list.append(hourly_list)\n",
    "    \n",
    "\n",
    "    disc += final_hourly_list[::3]\n",
    "    w_code += final_hourly_list[1::3]\n",
    "    w_index += final_hourly_list[2::3]\n",
    "    \n",
    "    weather_description = [inner for outer in disc for inner in outer if len(inner) == 24]\n",
    "    hourly_weather_code = [inner for outer in w_code for inner in outer if len(inner) == 24]\n",
    "    hourly_index = [inner for outer in w_index for inner in outer if len(inner) == 24]\n",
    "\n",
    "            \n",
    "            \n",
    "#             weather_desp = [data[i]['hourly']['weathercodedescription'][j:j+24] for j in range(0, len(data[i]['hourly']['weathercodedescription']), 24)]\n",
    "#             hour_weather_desp += weather_desp\n",
    "#             weathercode = [data[i]['hourly']['direct_normal_irradiance_instant'][j:j+24] for j in range(0, len(data[i]['hourly']['direct_normal_irradiance_instant']), 24)]\n",
    "#             hour_normal_irradiance +=\n",
    "    \n",
    "    return weather_description, hourly_weather_code, hourly_index\n",
    "# final_list = []\n",
    "# for i in range(3):\n",
    "#     for j in range(i, len(hourly_parse(data)), 3):\n",
    "#         final_list.append( hourly_parse(data)[j] )\n",
    "# final_list\n",
    "\n",
    "# hourly_data = hourly_parse(data)\n",
    "# weather_description = hourly_data[::3]\n",
    "# hourly_weather_code = hourly_data[1::3]\n",
    "# hourly_index = hourly_data[2::3]\n",
    "\n",
    "# print(weather_description[0][1])\n",
    "# print(len(hourly_weather_code[0][1]))\n",
    "# print(len(hourly_index[0][1]))\n",
    "\n",
    "# weather_description, hourly_weather_code, hourly_index = hourly_parse(data)\n",
    "\n",
    "\n",
    "# print(hourly_final_weather_code)\n",
    "# print(len(hourly_final_weather_code))"
   ]
  },
  {
   "cell_type": "code",
   "execution_count": 371,
   "metadata": {},
   "outputs": [],
   "source": [
    "# Code for Weather Data\n",
    "daily_data = pd.DataFrame(columns=['SiteID', 'Date', 'Weather_Code', 'Sunrise_Time', 'Sunset_Time', 'Hourly_Weather_Description', 'Hourly_Weather_Code', 'Hourly_Direct_Normal_Irradiance_Instant'])\n"
   ]
  },
  {
   "cell_type": "code",
   "execution_count": 374,
   "metadata": {},
   "outputs": [],
   "source": [
    "#  MAIN ROUTINE Weather Data\n",
    "for i in range(len(b)):\n",
    "    id = b.iloc[i, 0]\n",
    "    a = b.iloc[i, 1]\n",
    "    a_str = '[' + a + ']'\n",
    "    data = json.loads(a_str)\n",
    "    siteid, date, daily_weather_code, time_r, time_s = daily_parse(id, data)\n",
    "    weather_description, hourly_weather_code, hourly_index = hourly_parse(data)\n",
    "    dd = pd.DataFrame({'SiteID': siteid, 'Date': date, 'Weather_Code': daily_weather_code, 'Sunrise_Time': time_r, 'Sunset_Time': time_s, 'Hourly_Weather_Description': weather_description, 'Hourly_Weather_Code': hourly_weather_code, 'Hourly_Direct_Normal_Irradiance_Instant': hourly_index})\n",
    "    daily_data = pd.concat([daily_data, dd])\n",
    "    \n",
    "# print(siteid)"
   ]
  },
  {
   "cell_type": "code",
   "execution_count": 375,
   "metadata": {},
   "outputs": [],
   "source": [
    "# Code for Weather Data. For Every single month. And Saving it\n",
    "\n",
    "# daily_data['month'] = pd.to_datetime(daily_data['Date']).dt.month\n",
    "\n",
    "# jan_daily_data = daily_data[daily_data['month'] == 1].drop('month', axis=1)\n",
    "# feb_daily_data = daily_data[daily_data['month'] == 2].drop('month', axis=1)\n",
    "\n",
    "# jan_daily_data.to_csv('JAN_DATA.csv', index=False)\n",
    "# feb_daily_data.to_csv('FEB_DATA.csv', index=False)"
   ]
  },
  {
   "cell_type": "code",
   "execution_count": 380,
   "metadata": {},
   "outputs": [],
   "source": [
    "# Code for Weather Data. For 2 Months Combine\n",
    "\n",
    "daily_data['month'] = pd.to_datetime(daily_data['Date']).dt.month\n",
    "jan_feb_data = daily_data[daily_data['month'].isin([1, 2])].drop('month', axis=1)\n",
    "jan_feb_data.to_csv('Jan_Feb_Data.csv', index=False)"
   ]
  },
  {
   "cell_type": "markdown",
   "metadata": {},
   "source": [
    "Code Completed Above"
   ]
  },
  {
   "cell_type": "code",
   "execution_count": 277,
   "metadata": {},
   "outputs": [
    {
     "name": "stdout",
     "output_type": "stream",
     "text": [
      "0 weathercodedescription\n",
      "1 weathercode\n",
      "2 direct_normal_irradiance_instant\n"
     ]
    }
   ],
   "source": [
    "for a, key in enumerate(data[0]['hourly'].keys()):\n",
    "    print(a, key)"
   ]
  },
  {
   "cell_type": "code",
   "execution_count": null,
   "metadata": {},
   "outputs": [],
   "source": [
    "labeled_site = {   'siteid': siteid, \n",
    "                   'solarkw': solarkw,\n",
    "                   'solartargetkw': solarkwhtarget,\n",
    "                   'actualLoad': actualload,\n",
    "                   'solarLoss': solarLoss,\n",
    "                   'weather': weather,\n",
    "                   'faultyAlarms': faultyAlarms,\n",
    "                   'missingAlarms': missingAlarms,\n",
    "                   'siteStatus': status_Label,\n",
    "                   'planning': planning,\n",
    "                   'field_issue': field_challanges,\n",
    "                   'external_factors': None}"
   ]
  },
  {
   "cell_type": "code",
   "execution_count": 1,
   "metadata": {},
   "outputs": [
    {
     "ename": "NameError",
     "evalue": "name 'data' is not defined",
     "output_type": "error",
     "traceback": [
      "\u001b[1;31m--------------------------------------------\u001b[0m",
      "\u001b[1;31mNameError\u001b[0m  Traceback (most recent call last)",
      "Input \u001b[1;32mIn [1]\u001b[0m, in \u001b[0;36m<cell line: 7>\u001b[1;34m()\u001b[0m\n\u001b[0;32m      4\u001b[0m df \u001b[38;5;241m=\u001b[39m pd\u001b[38;5;241m.\u001b[39mDataFrame(columns\u001b[38;5;241m=\u001b[39m[\u001b[38;5;124m'\u001b[39m\u001b[38;5;124msiteid\u001b[39m\u001b[38;5;124m'\u001b[39m, \u001b[38;5;124m'\u001b[39m\u001b[38;5;124msolarkw\u001b[39m\u001b[38;5;124m'\u001b[39m, \u001b[38;5;124m'\u001b[39m\u001b[38;5;124mtargetkw\u001b[39m\u001b[38;5;124m'\u001b[39m, \u001b[38;5;124m'\u001b[39m\u001b[38;5;124mactualkw\u001b[39m\u001b[38;5;124m'\u001b[39m, \u001b[38;5;124m'\u001b[39m\u001b[38;5;124mgood/bad\u001b[39m\u001b[38;5;124m'\u001b[39m, \u001b[38;5;124m'\u001b[39m\u001b[38;5;124mplanning\u001b[39m\u001b[38;5;124m'\u001b[39m, \u001b[38;5;124m'\u001b[39m\u001b[38;5;124mfield_issue\u001b[39m\u001b[38;5;124m'\u001b[39m, \u001b[38;5;124m'\u001b[39m\u001b[38;5;124mexternal_factors\u001b[39m\u001b[38;5;124m'\u001b[39m])\n\u001b[0;32m      6\u001b[0m \u001b[38;5;66;03m# loop over your data and add each row to the DataFrame\u001b[39;00m\n\u001b[1;32m----> 7\u001b[0m \u001b[38;5;28;01mfor\u001b[39;00m siteid, solarkw, actualLoad, labels \u001b[38;5;129;01min\u001b[39;00m \u001b[43mdata\u001b[49m:\n\u001b[0;32m      8\u001b[0m     \u001b[38;5;66;03m# determine the length of the longest list\u001b[39;00m\n\u001b[0;32m      9\u001b[0m     max_len \u001b[38;5;241m=\u001b[39m \u001b[38;5;28mmax\u001b[39m(\u001b[38;5;28mlen\u001b[39m(solarkw), \u001b[38;5;28mlen\u001b[39m(actualLoad), \u001b[38;5;28mlen\u001b[39m(labels))\n\u001b[0;32m     11\u001b[0m     \u001b[38;5;66;03m# pad the shorter lists with None values\u001b[39;00m\n",
      "\u001b[1;31mNameError\u001b[0m: name 'data' is not defined"
     ]
    }
   ],
   "source": [
    "import pandas as pd\n",
    "\n",
    "# create an empty DataFrame with the desired columns\n",
    "df = pd.DataFrame(columns=['siteid', 'solarkw', 'targetkw', 'actualkw', 'good/bad', 'planning', 'field_issue', 'external_factors'])\n",
    "\n",
    "# loop over your data and add each row to the DataFrame\n",
    "for siteid, solarkw, actualLoad, labels in data:\n",
    "    # determine the length of the longest list\n",
    "    max_len = max(len(solarkw), len(actualLoad), len(labels))\n",
    "    \n",
    "    # pad the shorter lists with None values\n",
    "    solarkw += [None] * (max_len - len(solarkw))\n",
    "    actualLoad += [None] * (max_len - len(actualLoad))\n",
    "    labels += [None] * (max_len - len(labels))\n",
    "    \n",
    "    # create a dictionary representing a single row\n",
    "    row = {\n",
    "        'siteid': siteid,\n",
    "        'solarkw': solarkw,\n",
    "        'targetkw': [2, 5, 1],  # this is just an example\n",
    "        'actualkw': actualLoad,\n",
    "        'good/bad': 'Good' if all(label == 'good' for label in labels) else 'Bad',\n",
    "        'planning': None,\n",
    "        'field_issue': ['Solar_Faulty'] if 'solar' in labels else [],\n",
    "        'external_factors': None\n",
    "    }\n",
    "    \n",
    "    # add the row to the DataFrame\n",
    "    df = pd.concat([df, pd.DataFrame(row)])\n",
    "    \n",
    "# display the DataFrame\n",
    "print(df)\n"
   ]
  },
  {
   "cell_type": "code",
   "execution_count": 1,
   "metadata": {},
   "outputs": [
    {
     "name": "stdout",
     "output_type": "stream",
     "text": [
      "<class 'int'>\n"
     ]
    }
   ],
   "source": [
    "a = 5\n",
    "print(type(a))"
   ]
  },
  {
   "cell_type": "code",
   "execution_count": 2,
   "metadata": {},
   "outputs": [
    {
     "name": "stdout",
     "output_type": "stream",
     "text": [
      "Saad\n"
     ]
    }
   ],
   "source": [
    "a = False \n",
    "if not a:\n",
    "    print('Saad')"
   ]
  },
  {
   "cell_type": "code",
   "execution_count": null,
   "metadata": {},
   "outputs": [],
   "source": []
  }
 ],
 "metadata": {
  "kernelspec": {
   "display_name": "Python 3 (ipykernel)",
   "language": "python",
   "name": "python3"
  },
  "language_info": {
   "codemirror_mode": {
    "name": "ipython",
    "version": 3
   },
   "file_extension": ".py",
   "mimetype": "text/x-python",
   "name": "python",
   "nbconvert_exporter": "python",
   "pygments_lexer": "ipython3",
   "version": "3.9.12"
  }
 },
 "nbformat": 4,
 "nbformat_minor": 2
}
